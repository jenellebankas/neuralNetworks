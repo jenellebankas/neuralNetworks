{
 "cells": [
  {
   "metadata": {},
   "cell_type": "markdown",
   "source": [
    "# Neural Network Creation\n",
    "### Author: Jenelle Bankas\n",
    "### Date: 12/06/2025"
   ],
   "id": "4d8eddedfa79f70a"
  },
  {
   "metadata": {
    "ExecuteTime": {
     "end_time": "2025-06-12T10:02:45.550665Z",
     "start_time": "2025-06-12T10:02:45.547269Z"
    }
   },
   "cell_type": "code",
   "source": "import numpy as np",
   "id": "d65533df1f13be75",
   "outputs": [],
   "execution_count": 17
  },
  {
   "metadata": {
    "ExecuteTime": {
     "end_time": "2025-06-12T10:02:45.676112Z",
     "start_time": "2025-06-12T10:02:45.674401Z"
    }
   },
   "cell_type": "code",
   "source": "# if we have a matrix for the training data and want to feed the input forward through the matrix and arrive at the final input",
   "id": "c724f77e04a12c82",
   "outputs": [],
   "execution_count": 18
  },
  {
   "metadata": {
    "ExecuteTime": {
     "end_time": "2025-06-12T10:02:45.812705Z",
     "start_time": "2025-06-12T10:02:45.810899Z"
    }
   },
   "cell_type": "code",
   "source": [
    "# defining the matrix sizes from layer 0 to 3 in this example\n",
    "n = [2, 3, 3, 1]"
   ],
   "id": "82a63a7ac8507403",
   "outputs": [],
   "execution_count": 19
  },
  {
   "metadata": {
    "ExecuteTime": {
     "end_time": "2025-06-12T10:02:45.956944Z",
     "start_time": "2025-06-12T10:02:45.951722Z"
    }
   },
   "cell_type": "code",
   "source": [
    "# randomly initialise the biases and weights\n",
    "\n",
    "W1 = np.random.randn(n[1], n[0])\n",
    "W2 = np.random.randn(n[2], n[1])\n",
    "W3 = np.random.randn(n[3], n[2])\n",
    "b1 = np.random.randn(n[1], 1)\n",
    "b2 = np.random.randn(n[2], 1)\n",
    "b3 = np.random.randn(n[3], 1)\n",
    "\n",
    "# checking shape\n",
    "print(\"Weights for layer 1 shape:\", W1.shape)\n",
    "print(\"Weights for layer 2 shape:\", W2.shape)\n",
    "print(\"Weights for layer 3 shape:\", W3.shape)\n",
    "print(\"bias for layer 1 shape:\", b1.shape)\n",
    "print(\"bias for layer 2 shape:\", b2.shape)\n",
    "print(\"bias for layer 3 shape:\", b3.shape)"
   ],
   "id": "f75db443dca281b0",
   "outputs": [
    {
     "name": "stdout",
     "output_type": "stream",
     "text": [
      "Weights for layer 1 shape: (3, 2)\n",
      "Weights for layer 2 shape: (3, 3)\n",
      "Weights for layer 3 shape: (1, 3)\n",
      "bias for layer 1 shape: (3, 1)\n",
      "bias for layer 2 shape: (3, 1)\n",
      "bias for layer 3 shape: (1, 1)\n"
     ]
    }
   ],
   "execution_count": 20
  },
  {
   "metadata": {
    "ExecuteTime": {
     "end_time": "2025-06-12T10:02:46.023554Z",
     "start_time": "2025-06-12T10:02:46.021101Z"
    }
   },
   "cell_type": "code",
   "source": [
    "# Give the input data\n",
    "# it is in the shape m x n but needs to be transposed to for feed forward process\n",
    "\n",
    "X = np.array([\n",
    "    [150, 70],\n",
    "    [254, 73],\n",
    "    [312, 68],\n",
    "    [120, 60],\n",
    "    [154, 61],\n",
    "    [212, 65],\n",
    "    [216, 67],\n",
    "    [145, 67],\n",
    "    [184, 64],\n",
    "    [130, 69] \n",
    "])\n",
    "\n",
    "print(X.shape)"
   ],
   "id": "a0e8c63bf3721b32",
   "outputs": [
    {
     "name": "stdout",
     "output_type": "stream",
     "text": [
      "(10, 2)\n"
     ]
    }
   ],
   "execution_count": 21
  },
  {
   "metadata": {
    "ExecuteTime": {
     "end_time": "2025-06-12T10:02:46.142082Z",
     "start_time": "2025-06-12T10:02:46.140193Z"
    }
   },
   "cell_type": "code",
   "source": [
    "# transpose by calling .T property on it\n",
    "\n",
    "A0 = X.T\n",
    "print(A0.shape)"
   ],
   "id": "a0408bcdd483fbbb",
   "outputs": [
    {
     "name": "stdout",
     "output_type": "stream",
     "text": [
      "(2, 10)\n"
     ]
    }
   ],
   "execution_count": 22
  },
  {
   "metadata": {
    "ExecuteTime": {
     "end_time": "2025-06-12T10:02:46.329787Z",
     "start_time": "2025-06-12T10:02:46.327008Z"
    }
   },
   "cell_type": "code",
   "source": [
    "# labels for the data\n",
    "\n",
    "y = np.array([\n",
    "    0,\n",
    "    1,\n",
    "    1,\n",
    "    0,\n",
    "    0,\n",
    "    1,\n",
    "    1,\n",
    "    0,\n",
    "    1,\n",
    "    0\n",
    "])\n",
    "m = 10 \n",
    "\n",
    "# reshape to a n^[3] matrix\n",
    "\n",
    "Y = y.reshape(n[3], m)\n",
    "Y.shape"
   ],
   "id": "b6ce8e47802e78ec",
   "outputs": [
    {
     "data": {
      "text/plain": [
       "(1, 10)"
      ]
     },
     "execution_count": 23,
     "metadata": {},
     "output_type": "execute_result"
    }
   ],
   "execution_count": 23
  },
  {
   "metadata": {
    "ExecuteTime": {
     "end_time": "2025-06-12T10:02:46.497785Z",
     "start_time": "2025-06-12T10:02:46.495798Z"
    }
   },
   "cell_type": "code",
   "source": [
    "# create the activation function\n",
    "# np.exp() method takes in a matrix and models the function e^x\n",
    "\n",
    "def sigmoid(arr):\n",
    "    return 1 / (1 + np.exp(-arr))"
   ],
   "id": "c5d8ffd091689521",
   "outputs": [],
   "execution_count": 24
  },
  {
   "metadata": {
    "ExecuteTime": {
     "end_time": "2025-06-12T10:11:30.808855Z",
     "start_time": "2025-06-12T10:11:30.799388Z"
    }
   },
   "cell_type": "code",
   "source": [
    "# feed forward process\n",
    "\n",
    "m = 10 \n",
    "\n",
    "# layer 1 calcs\n",
    "Z1 = W1 @ A0 + b1 # matrix multiplication\n",
    "assert Z1.shape == (n[1], m) # checking if shapes are correct\n",
    "A1 = sigmoid(Z1)\n",
    "\n",
    "# layer 2 calcs\n",
    "Z2 = W2 @ A1 + b2\n",
    "assert Z2.shape == (n[2], m)\n",
    "A2 = sigmoid(Z2)\n",
    "\n",
    "# layer 3 calcs\n",
    "Z3 = W3 @ A2 + b3\n",
    "assert Z3.shape == (n[3], m)\n",
    "A3 = sigmoid(Z3)\n",
    "\n",
    "y_hat = A3"
   ],
   "id": "a6addea3961d396b",
   "outputs": [],
   "execution_count": 30
  },
  {
   "metadata": {
    "ExecuteTime": {
     "end_time": "2025-06-12T10:03:48.707713Z",
     "start_time": "2025-06-12T10:03:48.706089Z"
    }
   },
   "cell_type": "code",
   "source": "",
   "id": "8658f43010bbbeef",
   "outputs": [],
   "execution_count": 26
  },
  {
   "metadata": {},
   "cell_type": "code",
   "outputs": [],
   "execution_count": null,
   "source": "",
   "id": "55c0dbd3b3fd2f96"
  }
 ],
 "metadata": {
  "kernelspec": {
   "display_name": "Python 3",
   "language": "python",
   "name": "python3"
  },
  "language_info": {
   "codemirror_mode": {
    "name": "ipython",
    "version": 2
   },
   "file_extension": ".py",
   "mimetype": "text/x-python",
   "name": "python",
   "nbconvert_exporter": "python",
   "pygments_lexer": "ipython2",
   "version": "2.7.6"
  }
 },
 "nbformat": 4,
 "nbformat_minor": 5
}
